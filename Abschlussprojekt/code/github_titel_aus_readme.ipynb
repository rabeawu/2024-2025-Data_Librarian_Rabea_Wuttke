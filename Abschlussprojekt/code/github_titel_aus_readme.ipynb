{
 "cells": [
  {
   "cell_type": "code",
   "execution_count": 1,
   "id": "cea5b58f-7a7b-4060-9da1-8afce8170cba",
   "metadata": {},
   "outputs": [],
   "source": [
    "import requests\n",
    "import json\n",
    "import base64   #codiert binärdateien zu text (ich brauche ja was aus der readme-datei)\n",
    "import re   # python modul für reguläre ausdrücke (zb Überschriften)"
   ]
  },
  {
   "cell_type": "code",
   "execution_count": 2,
   "id": "0a719cd2-8ef1-493d-a911-c938333a743c",
   "metadata": {},
   "outputs": [],
   "source": [
    "def get_readme_heading(owner, repo):   # funktion mit 2 argumenten: Benutzer, name des repos\n",
    "    url = f\"https://api.github.com/repos/{owner}/{repo}/readme\"  #fragt readme-datei ab\n",
    "    headers = {\"Accept\": \"application/vnd.github.v3+json\"}  # sagt, dass ich das in json haben will\n",
    "\n",
    "    r = requests.get(url, headers=headers) # abrufen der readme-datei, ergebnis ist ein response-objekt\n",
    "\n",
    "    if r.status_code == 200:   #prüft, ob Anfrage erfolgreich war (200 heißt erfolgreich)\n",
    "        data = r.json()\n",
    "        content_encoded = data.get(\"content\", \"\")   # holt content-Feld (base64-codierter string)\n",
    "        content = base64.b64decode(content_encoded).decode(\"utf-8\", errors=\"ignore\")  # verwandelt codierte zeichen in normal lesbaren Text\n",
    "\n",
    "        match = re.search(r\"^#\\s+(.+)\", content, re.MULTILINE)   # suche nach der ersten Zeile, die mit # beginnt, also einer H1-Überschrift in Markdown.\n",
    "        if match:\n",
    "            return match.group(1).strip()   # der Text nach dem #\n",
    "        else:\n",
    "            return \"keine Überschrift gefunden\"\n",
    "    else:\n",
    "        return f\"kein README ({r.status_code})\"\n",
    "\n",
    "# vorher definierte Funktion auf df_gitgu_sw anwenden, owner+repo benötigt -> full_name\n",
    "df_gitgu_sw[\"readme_überschrift\"] = df_gitgu_sw[\"full name\"].apply(lambda full_name: get_readme_heading(*full_name.split(\"/\")))\n",
    "df_gitgu_sw"
   ]
  },
  {
   "cell_type": "code",
   "execution_count": null,
   "id": "2d17773f-7dd1-44a1-a661-81010298d6a7",
   "metadata": {},
   "outputs": [],
   "source": []
  },
  {
   "cell_type": "code",
   "execution_count": null,
   "id": "1d12cb76-7798-4acb-92a8-cdbc2523b34e",
   "metadata": {},
   "outputs": [],
   "source": [
    "\n",
    "\n"
   ]
  }
 ],
 "metadata": {
  "kernelspec": {
   "display_name": "Python 3 (ipykernel)",
   "language": "python",
   "name": "python3"
  },
  "language_info": {
   "codemirror_mode": {
    "name": "ipython",
    "version": 3
   },
   "file_extension": ".py",
   "mimetype": "text/x-python",
   "name": "python",
   "nbconvert_exporter": "python",
   "pygments_lexer": "ipython3",
   "version": "3.12.7"
  }
 },
 "nbformat": 4,
 "nbformat_minor": 5
}
