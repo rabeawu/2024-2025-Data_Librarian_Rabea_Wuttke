{
 "cells": [
  {
   "cell_type": "code",
   "execution_count": null,
   "id": "32a10712-a9eb-4237-9804-bd3956a617ce",
   "metadata": {},
   "outputs": [],
   "source": [
    "import requests"
   ]
  },
  {
   "cell_type": "code",
   "execution_count": null,
   "id": "b85b0bb5-8c33-4708-a6ec-4b965ec13cc9",
   "metadata": {},
   "outputs": [],
   "source": [
    "def has_cff_file(owner, repo):\n",
    "    url = f\"https://api.github.com/repos/{owner}/{repo}/contents/CITATION.cff\"\n",
    "    r = requests.get(url)\n",
    "    return r.status_code == 200"
   ]
  },
  {
   "cell_type": "code",
   "execution_count": null,
   "id": "b562d514-2b8a-406c-872a-2c07d7c62630",
   "metadata": {},
   "outputs": [],
   "source": [
    "# vorher definierte Funktion auf df_gitgu_sw anwenden:\n",
    "df_gitgu_sw[\"hat_cff\"] = df_gitgu_sw[\"full name\"].apply(lambda full_name: has_cff_file(*full_name.split(\"/\")))\n",
    "df_gitgu_sw"
   ]
  }
 ],
 "metadata": {
  "kernelspec": {
   "display_name": "Python 3 (ipykernel)",
   "language": "python",
   "name": "python3"
  },
  "language_info": {
   "codemirror_mode": {
    "name": "ipython",
    "version": 3
   },
   "file_extension": ".py",
   "mimetype": "text/x-python",
   "name": "python",
   "nbconvert_exporter": "python",
   "pygments_lexer": "ipython3",
   "version": "3.12.7"
  }
 },
 "nbformat": 4,
 "nbformat_minor": 5
}
