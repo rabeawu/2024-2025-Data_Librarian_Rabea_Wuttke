{
 "cells": [
  {
   "cell_type": "code",
   "execution_count": 1,
   "id": "b7c1f199-d3db-49bd-aee6-63071cf1d34c",
   "metadata": {},
   "outputs": [],
   "source": [
    "import pandas as pd\n",
    "import requests\n",
    "import json"
   ]
  },
  {
   "cell_type": "code",
   "execution_count": 2,
   "id": "163773f0-0204-4032-8b0a-27d8122e0da7",
   "metadata": {},
   "outputs": [],
   "source": [
    "urls = [\"https://www.bibsonomy.org/json/search/Douglas%20Adams?items=1000\", \"https://www.bibsonomy.org/json/search/Andy%20Warhol?items=1000\", \"https://www.bibsonomy.org/json/search/Berthold%20Brecht?items=1000\", \"https://www.bibsonomy.org/json/search/Michael%20Ende?items=1000\", \"https://www.bibsonomy.org/json/search/Sherlock?items=1000\", \"https://www.bibsonomy.org/json/search/Forschungsdatenmanagement?items=1000\", \"https://www.bibsonomy.org/json/search/Python%20lernen?items=1000\"]\n",
    "searchs = range(1,8)"
   ]
  },
  {
   "cell_type": "code",
   "execution_count": 3,
   "id": "5ca8e56e-e802-4367-8ce0-0e935a0c1759",
   "metadata": {},
   "outputs": [],
   "source": [
    "for url, search in zip(urls, searchs):\n",
    "    result = requests.get(url)\n",
    "    data = result.json()\n",
    "    df = pd.DataFrame(data[\"items\"])\n",
    "    df.to_json(f\"search{search}.json\")"
   ]
  },
  {
   "cell_type": "code",
   "execution_count": null,
   "id": "24c6b9a6-ac19-4f9c-804a-c566def77a1c",
   "metadata": {},
   "outputs": [],
   "source": []
  }
 ],
 "metadata": {
  "kernelspec": {
   "display_name": "Python 3 (ipykernel)",
   "language": "python",
   "name": "python3"
  },
  "language_info": {
   "codemirror_mode": {
    "name": "ipython",
    "version": 3
   },
   "file_extension": ".py",
   "mimetype": "text/x-python",
   "name": "python",
   "nbconvert_exporter": "python",
   "pygments_lexer": "ipython3",
   "version": "3.12.7"
  }
 },
 "nbformat": 4,
 "nbformat_minor": 5
}
