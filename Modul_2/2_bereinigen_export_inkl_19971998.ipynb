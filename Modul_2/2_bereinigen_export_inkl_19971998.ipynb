{
 "cells": [
  {
   "cell_type": "code",
   "execution_count": 173,
   "id": "9d6379f6-c91b-45a2-80fe-0aceb48dc0f0",
   "metadata": {},
   "outputs": [],
   "source": [
    "import pandas as pd"
   ]
  },
  {
   "cell_type": "code",
   "execution_count": 189,
   "id": "177e51e8-36f1-44d1-8f35-a1372914b8cd",
   "metadata": {},
   "outputs": [],
   "source": [
    "df_all = pd.read_json(\"search_all.json\")\n",
    "#df_all"
   ]
  },
  {
   "cell_type": "code",
   "execution_count": 190,
   "id": "aba073b7-0c2e-4565-88aa-1f8871759db7",
   "metadata": {},
   "outputs": [],
   "source": [
    "# NaN-Autoren und Seitenzahlen entfernen\n",
    "\n",
    "df_all = df_all.loc[df_all[\"author\"].isnull() == False]\n",
    "df_all = df_all.loc[df_all[\"pages\"].isnull() == False]"
   ]
  },
  {
   "cell_type": "code",
   "execution_count": 191,
   "id": "7d136a19-d5a1-49b0-83e9-4fc9b8413e09",
   "metadata": {},
   "outputs": [],
   "source": [
    "# Dubletten entfernen\n",
    "\n",
    "df_all = df_all.drop_duplicates(subset = [\"label\", \"year\"], keep = \"first\")"
   ]
  },
  {
   "cell_type": "code",
   "execution_count": 192,
   "id": "374f8615-18f5-4b5d-b961-e20e91ebce73",
   "metadata": {},
   "outputs": [
    {
     "data": {
      "text/plain": [
       "array(['2003', '2014', '2017', '2020', '2018', '1972', '2006', '2015',\n",
       "       '1994', '2019', '2012', '2009', '2013', '2016', '1997', '2010',\n",
       "       '2001', '2004', '2024', '1998', '2011', '2008', '2022', '1999',\n",
       "       '2005', '1991', '2000', '1992', '1990', '2023', '2007', '1995',\n",
       "       '2021', '2002', '1996', '1978', '1967', '1986', '1983-84', '1993',\n",
       "       '1981', '1984', '1982', '1979', '1985', '1989', '{2004}', '1980',\n",
       "       '1983', '1988', '1987', '1961'], dtype=object)"
      ]
     },
     "execution_count": 192,
     "metadata": {},
     "output_type": "execute_result"
    }
   ],
   "source": [
    "df_all[\"year\"].unique()"
   ]
  },
  {
   "cell_type": "code",
   "execution_count": 193,
   "id": "e51ee255-ec3a-4526-89cf-6eef0e7e089b",
   "metadata": {},
   "outputs": [
    {
     "data": {
      "text/html": [
       "<div>\n",
       "<style scoped>\n",
       "    .dataframe tbody tr th:only-of-type {\n",
       "        vertical-align: middle;\n",
       "    }\n",
       "\n",
       "    .dataframe tbody tr th {\n",
       "        vertical-align: top;\n",
       "    }\n",
       "\n",
       "    .dataframe thead th {\n",
       "        text-align: right;\n",
       "    }\n",
       "</style>\n",
       "<table border=\"1\" class=\"dataframe\">\n",
       "  <thead>\n",
       "    <tr style=\"text-align: right;\">\n",
       "      <th></th>\n",
       "      <th>label</th>\n",
       "      <th>author</th>\n",
       "      <th>year</th>\n",
       "      <th>editor</th>\n",
       "      <th>pages</th>\n",
       "      <th>language</th>\n",
       "      <th>type</th>\n",
       "      <th>search term</th>\n",
       "      <th>year_correct</th>\n",
       "    </tr>\n",
       "  </thead>\n",
       "  <tbody>\n",
       "    <tr>\n",
       "      <th>785</th>\n",
       "      <td>Ernst Jünger, Bertolt Brecht und der 'Habitus'...</td>\n",
       "      <td>[Helmut Lethen]</td>\n",
       "      <td>1983-84</td>\n",
       "      <td>None</td>\n",
       "      <td>273-289</td>\n",
       "      <td>None</td>\n",
       "      <td>Publication</td>\n",
       "      <td>Berthold Brecht</td>\n",
       "      <td>False</td>\n",
       "    </tr>\n",
       "    <tr>\n",
       "      <th>1049</th>\n",
       "      <td>Where is the value added in the cluster approa...</td>\n",
       "      <td>[P Benneworth, N Henry]</td>\n",
       "      <td>{2004}</td>\n",
       "      <td>None</td>\n",
       "      <td>1011-1023</td>\n",
       "      <td>English</td>\n",
       "      <td>Publication</td>\n",
       "      <td>Michael Ende</td>\n",
       "      <td>False</td>\n",
       "    </tr>\n",
       "  </tbody>\n",
       "</table>\n",
       "</div>"
      ],
      "text/plain": [
       "                                                  label  \\\n",
       "785   Ernst Jünger, Bertolt Brecht und der 'Habitus'...   \n",
       "1049  Where is the value added in the cluster approa...   \n",
       "\n",
       "                       author     year editor      pages language  \\\n",
       "785           [Helmut Lethen]  1983-84   None    273-289     None   \n",
       "1049  [P Benneworth, N Henry]   {2004}   None  1011-1023  English   \n",
       "\n",
       "             type      search term  year_correct  \n",
       "785   Publication  Berthold Brecht         False  \n",
       "1049  Publication     Michael Ende         False  "
      ]
     },
     "execution_count": 193,
     "metadata": {},
     "output_type": "execute_result"
    }
   ],
   "source": [
    "# Erscheinungsjahr bereinigen\n",
    "# zusätzliche Spalte hinzugfügen, die anzeigt, ob die Spalte Year einen korrekten Eintrag hat\n",
    "\n",
    "df_all[\"year_correct\"] = df_all.apply(lambda row: row.year.isdigit(), axis=1)\n",
    "\n",
    "# \"falsche\" Einträge anzeigen\n",
    "\n",
    "df_all.loc[df_all.year_correct == False]"
   ]
  },
  {
   "cell_type": "code",
   "execution_count": 194,
   "id": "dd95da51-3ab1-49f9-b1ba-840ba6e7ea8e",
   "metadata": {},
   "outputs": [],
   "source": [
    "# \"korrekte\" Einträge behalten\n",
    "\n",
    "df_all = df_all.loc[df_all.year_correct == True]"
   ]
  },
  {
   "cell_type": "code",
   "execution_count": 195,
   "id": "40759f54-c526-4bc6-89da-1e8205c93f50",
   "metadata": {},
   "outputs": [],
   "source": [
    "# Spalte \"Year number \"hinzufügen, die das Erscheinungsjahr als integer angibt\n",
    "\n",
    "df_all[\"year_number\"] = df_all[\"year\"].astype(int)"
   ]
  },
  {
   "cell_type": "code",
   "execution_count": 196,
   "id": "425d95e5-f946-47b6-93e9-bd4b7018e352",
   "metadata": {},
   "outputs": [
    {
     "data": {
      "text/plain": [
       "9            555-559\n",
       "10              1-10\n",
       "11           149-159\n",
       "12          255--268\n",
       "13         5746-5758\n",
       "            ...     \n",
       "1921    1197 -- 1207\n",
       "1928           88-90\n",
       "1931          107110\n",
       "1934           39-48\n",
       "1940          348 S.\n",
       "Name: pages, Length: 1292, dtype: object"
      ]
     },
     "execution_count": 196,
     "metadata": {},
     "output_type": "execute_result"
    }
   ],
   "source": [
    "df_all.pages"
   ]
  },
  {
   "cell_type": "code",
   "execution_count": 197,
   "id": "b138a352-6534-4de9-bb5c-919c9d7d5e8b",
   "metadata": {
    "scrolled": true
   },
   "outputs": [],
   "source": [
    "# merkwürdig hohe Seitenzahl löschen\n",
    "\n",
    "df_all = df_all.loc[df_all.pages != \"107110\"]"
   ]
  },
  {
   "cell_type": "code",
   "execution_count": 198,
   "id": "623e755c-b1a6-45d2-9e8e-8c195b441822",
   "metadata": {},
   "outputs": [],
   "source": [
    "# Spalten löschen und umbenennen\n",
    "\n",
    "df_all_clean = df_all.drop(columns=[\"year\", \"year_correct\"])\n",
    "df_all_clean = df_all_clean.rename(columns={\"label\": \"title\", \"author\": \"authors\", \"editor\": \"editors\", \"year_number\": \"year\"})"
   ]
  },
  {
   "cell_type": "code",
   "execution_count": 199,
   "id": "98d70a84-84c5-4a46-acee-e9ff968a5fa3",
   "metadata": {},
   "outputs": [],
   "source": [
    "#df_all_clean"
   ]
  },
  {
   "cell_type": "code",
   "execution_count": 200,
   "id": "0e8f3a86-ec41-49e5-a648-d2035790c1d9",
   "metadata": {},
   "outputs": [],
   "source": [
    "# als json abspeichern\n",
    "\n",
    "df_all_clean.to_json(\"search_all_clean.json\", orient=\"records\")"
   ]
  },
  {
   "cell_type": "code",
   "execution_count": null,
   "id": "7e92b5b2-9f63-42d8-a19a-49a488982a66",
   "metadata": {},
   "outputs": [],
   "source": []
  },
  {
   "cell_type": "code",
   "execution_count": null,
   "id": "87d93466-49e3-4b5a-84c4-190bd59e4b50",
   "metadata": {},
   "outputs": [],
   "source": [
    "# analog zu der hohen Seitenzahl müsste sich auch die falsche Jahreszahl aus dem Tutorial löschen lassen\n",
    "\n",
    "df_bibsonomy_selection.loc[df_bibsonomy_selection.year_number !=19971998]"
   ]
  }
 ],
 "metadata": {
  "kernelspec": {
   "display_name": "Python 3 (ipykernel)",
   "language": "python",
   "name": "python3"
  },
  "language_info": {
   "codemirror_mode": {
    "name": "ipython",
    "version": 3
   },
   "file_extension": ".py",
   "mimetype": "text/x-python",
   "name": "python",
   "nbconvert_exporter": "python",
   "pygments_lexer": "ipython3",
   "version": "3.12.7"
  }
 },
 "nbformat": 4,
 "nbformat_minor": 5
}
